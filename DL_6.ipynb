{
  "cells": [
    {
      "cell_type": "markdown",
      "source": [
        "# Object detection using Transfer Learning of CNN architectures\n",
        "\n",
        "\n",
        "\n",
        "1.   Load in a pre-trained CNN model trained on a large dataset\n",
        "2.   Freeze parameters(weights) in the model’s lower convolutional layers\n",
        "3.   Add a custom classifier with several layers of trainable parameters to model\n",
        "4.   Train classifier layers on training data available for the task\n",
        "5.   Fine-tune hyperparameters and unfreeze more layers as needed\n",
        "\n",
        "\n"
      ],
      "metadata": {
        "id": "MzFjlK0ViCJK"
      }
    },
    {
      "cell_type": "code",
      "execution_count": null,
      "metadata": {
        "id": "Yn-fUt4rfHG9"
      },
      "outputs": [],
      "source": [
        "from keras.applications import ResNet50\n",
        "from keras.layers import Flatten, Dense, Dropout\n",
        "from keras.models import Model\n",
        "from keras.optimizers import SGD\n",
        "from keras.preprocessing.image import ImageDataGenerator"
      ]
    },
    {
      "cell_type": "code",
      "source": [
        "from google.colab import drive\n",
        "drive.mount('/content/drive')"
      ],
      "metadata": {
        "id": "eI3mPerRMvgq"
      },
      "execution_count": null,
      "outputs": []
    },
    {
      "cell_type": "code",
      "source": [
        "train_path = '/content/drive/My Drive/DL_Hussain_Khambati_33537/rural_and_urban_photos/train'\n",
        "valid_path = '/content/drive/My Drive/DL_Hussain_Khambati_33537/rural_and_urban_photos/val'"
      ],
      "metadata": {
        "id": "gclKo-qzM20O"
      },
      "execution_count": null,
      "outputs": []
    },
    {
      "cell_type": "code",
      "execution_count": null,
      "metadata": {
        "id": "yZPQeDQ2fHHE"
      },
      "outputs": [],
      "source": [
        "# Load pre-trained ResNet50 model\n",
        "base_model = ResNet50(weights='imagenet', include_top=False, input_shape=(224, 224, 3))"
      ]
    },
    {
      "cell_type": "code",
      "execution_count": null,
      "metadata": {
        "id": "dfmdjU6hfHHF"
      },
      "outputs": [],
      "source": [
        "# Freeze early layers\n",
        "for layer in base_model.layers[:-4]:\n",
        "    layer.trainable = False\n",
        "\n",
        "# Add custom classifier\n",
        "x = base_model.output\n",
        "x = Flatten()(x)\n",
        "x = Dense(512, activation='relu')(x)\n",
        "x = Dropout(0.5)(x)\n",
        "predictions = Dense(2, activation='softmax')(x)"
      ]
    },
    {
      "cell_type": "code",
      "execution_count": null,
      "metadata": {
        "id": "PwRkbescfHHH"
      },
      "outputs": [],
      "source": [
        "# Create full model\n",
        "model = Model(inputs=base_model.input, outputs=predictions)\n",
        "\n",
        "# Compile model\n",
        "model.compile(loss='categorical_crossentropy',\n",
        "              optimizer='rmsprop',\n",
        "              metrics=['accuracy'])"
      ]
    },
    {
      "cell_type": "code",
      "execution_count": null,
      "metadata": {
        "id": "01-PsallfHHI"
      },
      "outputs": [],
      "source": [
        "# Create generators\n",
        "train_datagen = ImageDataGenerator(rescale=1./255,\n",
        "                                   shear_range=0.2,\n",
        "                                   zoom_range=0.2,\n",
        "                                   horizontal_flip=True)\n",
        "\n",
        "test_datagen = ImageDataGenerator(rescale=1./255)\n",
        "\n",
        "train_generator = train_datagen.flow_from_directory(\n",
        "        train_path,\n",
        "        target_size=(224, 224),\n",
        "        batch_size=2,\n",
        "        class_mode='categorical')\n",
        "\n",
        "validation_generator = test_datagen.flow_from_directory(\n",
        "        valid_path,\n",
        "        target_size=(224, 224),\n",
        "        batch_size=2,\n",
        "        class_mode='categorical')"
      ]
    },
    {
      "cell_type": "code",
      "execution_count": null,
      "metadata": {
        "id": "t2sw2thzfHHK"
      },
      "outputs": [],
      "source": [
        "# Train classifier layers\n",
        "model.fit(\n",
        "        train_generator,\n",
        "        steps_per_epoch=5,\n",
        "        epochs=10,\n",
        "        validation_data=validation_generator,\n",
        "        validation_steps=50)"
      ]
    },
    {
      "cell_type": "code",
      "execution_count": null,
      "metadata": {
        "id": "24dsnpRJfHHM"
      },
      "outputs": [],
      "source": [
        "# Unfreeze deeper layers\n",
        "for layer in base_model.layers[-6:]:\n",
        "    layer.trainable = True\n",
        "\n",
        "# Recompile and fine-tune model\n",
        "model.compile(optimizer=SGD(lr=0.0001, momentum=0.9),\n",
        "              loss='categorical_crossentropy',\n",
        "              metrics=['accuracy'])\n",
        "\n",
        "model.fit(\n",
        "        train_generator,\n",
        "        steps_per_epoch=5,\n",
        "        epochs=10,\n",
        "        validation_data=validation_generator,\n",
        "        validation_steps=50)"
      ]
    }
  ],
  "metadata": {
    "kernelspec": {
      "display_name": "Python 3",
      "name": "python3"
    },
    "language_info": {
      "codemirror_mode": {
        "name": "ipython",
        "version": 3
      },
      "file_extension": ".py",
      "mimetype": "text/x-python",
      "name": "python",
      "nbconvert_exporter": "python",
      "pygments_lexer": "ipython3",
      "version": "3.10.9"
    },
    "orig_nbformat": 4,
    "colab": {
      "provenance": [],
      "gpuType": "T4"
    },
    "accelerator": "GPU"
  },
  "nbformat": 4,
  "nbformat_minor": 0
}